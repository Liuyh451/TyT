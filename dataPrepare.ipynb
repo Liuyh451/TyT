{
 "cells": [
  {
   "metadata": {
    "ExecuteTime": {
     "end_time": "2025-05-02T14:50:31.185870Z",
     "start_time": "2025-05-02T14:50:31.165868Z"
    }
   },
   "cell_type": "code",
   "source": [
    "import os\n",
    "import numpy as np\n",
    "import torch\n",
    "\n",
    "def load_3levels_data(base_dir, year, levels=(\"225hPa\", \"500hPa\", \"700hPa\")):\n",
    "    \"\"\"加载某一年在3个高度层上的 u、v、z 数据，返回 shape = (N, 3, H, W) 的数组\"\"\"\n",
    "    u_list, v_list, z_list = [], [], []\n",
    "\n",
    "    for level in levels:\n",
    "        level_path = os.path.join(base_dir, level)\n",
    "        print(os.path.join(level_path, f\"UWind{year}.npy\"))\n",
    "        u = np.load(os.path.join(level_path, f\"UWind{year}.npy\"))\n",
    "        v = np.load(os.path.join(level_path, f\"VWind{year}.npy\"))\n",
    "        z = np.load(os.path.join(level_path, f\"Geopotential{year}.npy\"))\n",
    "\n",
    "        u_list.append(u)\n",
    "        v_list.append(v)\n",
    "        z_list.append(z)\n",
    "\n",
    "    # 堆叠为 shape: (N, 3, H, W)\n",
    "    u = np.stack(u_list, axis=1)\n",
    "    v= np.stack(v_list, axis=1)\n",
    "    z = np.stack(z_list, axis=1)\n",
    "    assert z.shape == u.shape == v.shape, \"三个变量的shape必须一致\"\n",
    "    data = np.concatenate([u, v, z], axis=1)  # shape: (N, 9, 40, 40)\n",
    "    print(data.shape)\n",
    "    return torch.tensor(data, dtype=torch.float32)  # 转换为 Tensor，便于送入CNN"
   ],
   "id": "9608ecfc77e7a8b9",
   "outputs": [],
   "execution_count": 10
  },
  {
   "metadata": {
    "ExecuteTime": {
     "end_time": "2025-05-02T14:50:32.973898Z",
     "start_time": "2025-05-02T14:50:32.955898Z"
    }
   },
   "cell_type": "code",
   "source": [
    "def process_multiple_years_separated_levels(base_dir, years, crop_size=40):\n",
    "    \"\"\"\n",
    "    处理多个年份的数据（气压层分文件夹），拼接为统一张量。\n",
    "    返回 shape: (total_samples, 9, crop_size, crop_size)\n",
    "    \"\"\"\n",
    "    all_data = []\n",
    "\n",
    "    for year in years:\n",
    "        try:\n",
    "            tensor = load_3levels_data(base_dir, year)\n",
    "            all_data.append(tensor)\n",
    "        except Exception as e:\n",
    "            print(f\"[!] 加载 {year} 失败: {e}\")\n",
    "            continue\n",
    "\n",
    "    if not all_data:\n",
    "        raise ValueError(\"未加载到任何有效数据\")\n",
    "\n",
    "    return torch.cat(all_data, dim=0)\n"
   ],
   "id": "a1a920d9d90e7d56",
   "outputs": [],
   "execution_count": 11
  },
  {
   "metadata": {
    "ExecuteTime": {
     "end_time": "2025-05-02T14:50:35.228569Z",
     "start_time": "2025-05-02T14:50:34.357374Z"
    }
   },
   "cell_type": "code",
   "source": [
    "years = [2001, 2002, 2003,2004,2005]\n",
    "base_dir = \"E:/Dataset/ERA5/Extracted/\"  # 存放 225hpa、500hpa、700hpa 子目录的根目录\n",
    "\n",
    "data_tensor = process_multiple_years_separated_levels(base_dir, years)\n",
    "print(data_tensor.shape)  # 应该是 (N_total, 9, 40, 40)\n"
   ],
   "id": "59ca0cb2dbd8bc5c",
   "outputs": [
    {
     "name": "stdout",
     "output_type": "stream",
     "text": [
      "E:/Dataset/ERA5/Extracted/225hPa\\UWind2001.npy\n",
      "E:/Dataset/ERA5/Extracted/500hPa\\UWind2001.npy\n",
      "E:/Dataset/ERA5/Extracted/700hPa\\UWind2001.npy\n",
      "(863, 9, 40, 40)\n",
      "E:/Dataset/ERA5/Extracted/225hPa\\UWind2002.npy\n",
      "E:/Dataset/ERA5/Extracted/500hPa\\UWind2002.npy\n",
      "E:/Dataset/ERA5/Extracted/700hPa\\UWind2002.npy\n",
      "(804, 9, 40, 40)\n",
      "E:/Dataset/ERA5/Extracted/225hPa\\UWind2003.npy\n",
      "E:/Dataset/ERA5/Extracted/500hPa\\UWind2003.npy\n",
      "E:/Dataset/ERA5/Extracted/700hPa\\UWind2003.npy\n",
      "(767, 9, 40, 40)\n",
      "E:/Dataset/ERA5/Extracted/225hPa\\UWind2004.npy\n",
      "E:/Dataset/ERA5/Extracted/500hPa\\UWind2004.npy\n",
      "E:/Dataset/ERA5/Extracted/700hPa\\UWind2004.npy\n",
      "(1092, 9, 40, 40)\n",
      "E:/Dataset/ERA5/Extracted/225hPa\\UWind2005.npy\n",
      "E:/Dataset/ERA5/Extracted/500hPa\\UWind2005.npy\n",
      "E:/Dataset/ERA5/Extracted/700hPa\\UWind2005.npy\n",
      "(769, 9, 40, 40)\n",
      "torch.Size([4295, 9, 40, 40])\n"
     ]
    }
   ],
   "execution_count": 12
  },
  {
   "metadata": {
    "ExecuteTime": {
     "end_time": "2025-05-02T14:54:22.956579Z",
     "start_time": "2025-05-02T14:54:22.938581Z"
    }
   },
   "cell_type": "code",
   "source": [
    "# 假设数据是 PyTorch Tensor（形状：[样本数, 通道数, 高度, 宽度]）\n",
    "data = data_tensor  # 示例数据（替换为真实数据）\n",
    "\n",
    "# 划分比例（不打乱顺序，按原始顺序连续划分）\n",
    "train_ratio = 0.8\n",
    "val_ratio = 0.1\n",
    "test_ratio = 0.1\n",
    "\n",
    "# 计算各部分样本数（确保整数，按原始顺序连续划分）\n",
    "total_samples = data.shape[0]\n",
    "train_size = int(total_samples * train_ratio)  # 4295*0.8=3436\n",
    "val_size = int(total_samples * val_ratio)      # 4295*0.1=429\n",
    "test_size = total_samples - train_size - val_size  # 4295-3436-429=430"
   ],
   "id": "4e6e62cb3d96b7e",
   "outputs": [],
   "execution_count": 13
  },
  {
   "metadata": {
    "ExecuteTime": {
     "end_time": "2025-05-02T14:54:25.758498Z",
     "start_time": "2025-05-02T14:54:25.739759Z"
    }
   },
   "cell_type": "code",
   "source": [
    "# 训练集：前 train_size 个样本（索引 0 → train_size-1）\n",
    "train_indices = slice(0, train_size)\n",
    "\n",
    "# 验证集：中间 val_size 个样本（索引 train_size → train_size+val_size-1）\n",
    "val_indices = slice(train_size, train_size + val_size)\n",
    "\n",
    "# 测试集：剩余样本（索引 train_size+val_size → 末尾）\n",
    "test_indices = slice(train_size + val_size, None)"
   ],
   "id": "532b87918b239289",
   "outputs": [],
   "execution_count": 14
  },
  {
   "metadata": {
    "ExecuteTime": {
     "end_time": "2025-05-02T14:54:35.368920Z",
     "start_time": "2025-05-02T14:54:35.345788Z"
    }
   },
   "cell_type": "code",
   "source": [
    "# 按连续索引切片提取数据（保持原始顺序）\n",
    "train_data = data[train_indices].numpy()\n",
    "val_data = data[val_indices].numpy()\n",
    "test_data = data[test_indices].numpy()\n",
    "\n",
    "# 打印各部分形状（验证是否正确）\n",
    "print(\"训练集形状:\", train_data.shape)  # 输出 (3436, 9, 40, 40)\n",
    "print(\"验证集形状:\", val_data.shape)    # 输出 (429, 9, 40, 40)\n",
    "print(\"测试集形状:\", test_data.shape)   # 输出 (430, 9, 40, 40)"
   ],
   "id": "1f6c855f811a7664",
   "outputs": [
    {
     "name": "stdout",
     "output_type": "stream",
     "text": [
      "训练集形状: (3436, 9, 40, 40)\n",
      "验证集形状: (429, 9, 40, 40)\n",
      "测试集形状: (430, 9, 40, 40)\n"
     ]
    }
   ],
   "execution_count": 15
  },
  {
   "metadata": {
    "ExecuteTime": {
     "end_time": "2025-05-02T14:55:08.142700Z",
     "start_time": "2025-05-02T14:55:07.766926Z"
    }
   },
   "cell_type": "code",
   "source": [
    "# 保存路径（可自定义）\n",
    "save_dir = \"./dataset/\"\n",
    "np.save(f\"{save_dir}train.npy\", train_data)\n",
    "np.save(f\"{save_dir}val.npy\", val_data)\n",
    "np.save(f\"{save_dir}test.npy\", test_data)\n",
    "\n",
    "print(\"数据集按顺序划分及保存完成！\")"
   ],
   "id": "155cab76d0b79325",
   "outputs": [
    {
     "name": "stdout",
     "output_type": "stream",
     "text": [
      "数据集按顺序划分及保存完成！\n"
     ]
    }
   ],
   "execution_count": 17
  },
  {
   "metadata": {
    "ExecuteTime": {
     "end_time": "2025-05-02T14:59:57.705581Z",
     "start_time": "2025-05-02T14:59:57.631110Z"
    }
   },
   "cell_type": "code",
   "source": [
    "import numpy as np\n",
    "from collections import defaultdict\n",
    "\n",
    "def process_cma_data(input_path):\n",
    "    \"\"\" 处理CMA台风最佳路径数据 \"\"\"\n",
    "    yearly_data = defaultdict(list)\n",
    "    \n",
    "    with open(input_path, 'r') as f:\n",
    "        for line in f:\n",
    "            # 跳过标题行（示例中的66666开头行）\n",
    "            if line.startswith('66666'):\n",
    "                continue\n",
    "            \n",
    "            # 清洗数据行\n",
    "            clean_line = ' '.join(line.strip().split())\n",
    "            parts = clean_line.split()\n",
    "            \n",
    "            # 验证数据有效性\n",
    "            if len(parts) < 6:\n",
    "                continue\n",
    "\n",
    "            try:\n",
    "                # 解析时间和年份\n",
    "                timestamp = parts[0]\n",
    "                year = int(timestamp[:4])\n",
    "                \n",
    "                # 筛选目标年份\n",
    "                if 2001 <= year <= 2005:\n",
    "                    # 提取并转换特征数据\n",
    "                    lat = float(parts[2])/10    # 纬度（转换为实际度数）\n",
    "                    lon = float(parts[3])/10     # 经度（转换为实际度数）\n",
    "                    pressure = float(parts[4])   # 中心气压（hPa）\n",
    "                    wind = float(parts[5])      # 最大风速（m/s）\n",
    "                    \n",
    "                    # 组合特征数组\n",
    "                    features = np.array([lat, lon, pressure, wind])\n",
    "                    yearly_data[year].append(features)\n",
    "                    \n",
    "            except (ValueError, IndexError) as e:\n",
    "                print(f\"解析错误：{line.strip()} | 错误信息：{str(e)}\")\n",
    "                continue\n",
    "\n",
    "    # 保存每年数据\n",
    "    for year, data in yearly_data.items():\n",
    "        if data:\n",
    "            output_file = f\"CH{year}BST.npy\"\n",
    "            np.save(output_file, np.array(data))\n",
    "            print(f\"已保存 {year} 年数据：{output_file}（{len(data)} 条记录）\")\n",
    "\n",
    "if __name__ == \"__main__\":\n",
    "    for i in range(2001, 2006):\n",
    "        input_file = \"E:\\Dataset\\CMA\\CMABSTdata\\CH\"+str(i)+\"BST.txt\"  # 请替换为实际文件路径\n",
    "        process_cma_data(input_file)"
   ],
   "id": "e9ae16c477388ce2",
   "outputs": [
    {
     "name": "stdout",
     "output_type": "stream",
     "text": [
      "已保存 2001 年数据：CH2001BST.npy（863 条记录）\n",
      "已保存 2002 年数据：CH2002BST.npy（804 条记录）\n",
      "已保存 2003 年数据：CH2003BST.npy（767 条记录）\n",
      "已保存 2004 年数据：CH2004BST.npy（1092 条记录）\n",
      "已保存 2005 年数据：CH2005BST.npy（769 条记录）\n"
     ]
    }
   ],
   "execution_count": 18
  },
  {
   "metadata": {
    "ExecuteTime": {
     "end_time": "2025-05-02T15:00:47.320364Z",
     "start_time": "2025-05-02T15:00:47.304333Z"
    }
   },
   "cell_type": "code",
   "source": [
    "import numpy as np\n",
    "data_2003 = np.load(\"CH2003BST.npy\")\n",
    "print(f\"2003年数据维度：{data_2003.shape}\")\n",
    "print(\"首条记录样本：\", data_2003[0])"
   ],
   "id": "286799adb48578e9",
   "outputs": [
    {
     "name": "stdout",
     "output_type": "stream",
     "text": [
      "2003年数据维度：(767, 4)\n",
      "首条记录样本： [   6.9  163.1 1004.    12. ]\n"
     ]
    }
   ],
   "execution_count": 19
  },
  {
   "metadata": {
    "ExecuteTime": {
     "end_time": "2025-05-02T15:05:40.297859Z",
     "start_time": "2025-05-02T15:05:40.273745Z"
    }
   },
   "cell_type": "code",
   "source": [
    "import numpy as np\n",
    "import os\n",
    "\n",
    "def merge_and_split(data_years=(2001, 2005), ratios=(0.8, 0.1, 0.1)):\n",
    "    \"\"\"\n",
    "    合并指定年份数据并按比例顺序划分数据集\n",
    "    参数：\n",
    "        data_years : (start_year, end_year) 年份范围\n",
    "        ratios     : (train, val, test) 划分比例\n",
    "    \"\"\"\n",
    "    # 合并所有数据\n",
    "    merged = []\n",
    "    for year in range(data_years[0], data_years[1]+1):\n",
    "        file_path = f\"CH{year}BST.npy\"\n",
    "        if os.path.exists(file_path):\n",
    "            data = np.load(file_path)\n",
    "            merged.append(data)\n",
    "            print(f\"已加载 {year} 年数据：{data.shape[0]} 条记录\")\n",
    "    \n",
    "    if not merged:\n",
    "        raise ValueError(\"未找到任何数据文件\")\n",
    "    \n",
    "    full_data = np.concatenate(merged, axis=0)\n",
    "    print(f\"\\n总数据量：{full_data.shape[0]} 条记录\")\n",
    "\n",
    "    # 按顺序划分数据集\n",
    "    total = full_data.shape[0]\n",
    "    train_end = int(total * ratios[0])\n",
    "    val_end = train_end + int(total * ratios[1])\n",
    "\n",
    "    train = full_data[:train_end]\n",
    "    val = full_data[train_end:val_end]\n",
    "    test = full_data[val_end:]\n",
    "\n",
    "    # 验证划分比例\n",
    "    print(\"\\n数据集划分结果：\")\n",
    "    print(f\"训练集：{train.shape[0]} 条 ({train.shape[0]/total:.1%})\")\n",
    "    print(f\"验证集：{val.shape[0]} 条 ({val.shape[0]/total:.1%})\")\n",
    "    print(f\"测试集：{test.shape[0]} 条 ({test.shape[0]/total:.1%})\")\n",
    "\n",
    "    # 保存数据集\n",
    "    np.save(\"dataset_train.npy\", train)\n",
    "    np.save(\"dataset_val.npy\", val)\n",
    "    np.save(\"dataset_test.npy\", test)\n",
    "    print(\"\\n数据集已保存为：\")\n",
    "    print(\"  - dataset_train.npy\")\n",
    "    print(\"  - dataset_val.npy\")\n",
    "    print(\"  - dataset_test.npy\")"
   ],
   "id": "c38c7cadfc17108f",
   "outputs": [],
   "execution_count": 20
  },
  {
   "metadata": {
    "ExecuteTime": {
     "end_time": "2025-05-02T15:05:43.266939Z",
     "start_time": "2025-05-02T15:05:43.243286Z"
    }
   },
   "cell_type": "code",
   "source": [
    "if __name__ == \"__main__\":\n",
    "    # 使用示例（处理2001-2005年数据）\n",
    "    merge_and_split(data_years=(2001, 2005))"
   ],
   "id": "c588ce21dc7c45ea",
   "outputs": [
    {
     "name": "stdout",
     "output_type": "stream",
     "text": [
      "已加载 2001 年数据：863 条记录\n",
      "已加载 2002 年数据：804 条记录\n",
      "已加载 2003 年数据：767 条记录\n",
      "已加载 2004 年数据：1092 条记录\n",
      "已加载 2005 年数据：769 条记录\n",
      "\n",
      "总数据量：4295 条记录\n",
      "\n",
      "数据集划分结果：\n",
      "训练集：3436 条 (80.0%)\n",
      "验证集：429 条 (10.0%)\n",
      "测试集：430 条 (10.0%)\n",
      "\n",
      "数据集已保存为：\n",
      "  - dataset_train.npy\n",
      "  - dataset_val.npy\n",
      "  - dataset_test.npy\n"
     ]
    }
   ],
   "execution_count": 21
  },
  {
   "metadata": {
    "ExecuteTime": {
     "end_time": "2025-05-04T11:07:35.805683Z",
     "start_time": "2025-05-04T11:07:35.672391Z"
    }
   },
   "cell_type": "code",
   "source": [
    "import pandas as pd\n",
    "\n",
    "# 定义输入输出路径\n",
    "input_txt_path = \"/home/hy4080/wplyh/CMA/CMABSTdata/CH2005BST.txt\"  # 输入的TXT文件路径\n",
    "output_csv_path = \"bst_data_2005.csv\"  # 输出的CSV文件路径\n",
    "\n",
    "# 读取TXT文件（假设列之间由空格分隔）\n",
    "df = pd.read_csv(\n",
    "    input_txt_path, \n",
    "    sep=r'\\s+',          # 正则表达式匹配任意多空格\n",
    "    header=None,         # 无表头\n",
    "    names=[              # 自定义列名（根据实际数据调整）\n",
    "        'Year', \n",
    "        'Month', \n",
    "        'Day', \n",
    "        'Hour', \n",
    "        'Lon', \n",
    "        'Lat', \n",
    "        'Pressure', \n",
    "        'WindSpeed'\n",
    "    ],\n",
    "    engine='python'      # 确保正则分隔符兼容性\n",
    ")\n",
    "\n",
    "# 保存为CSV\n",
    "df.to_csv(output_csv_path, index=False)  # 不保留行索引\n",
    "\n",
    "print(f\"转换完成！文件已保存至 {output_csv_path}\")"
   ],
   "id": "9c77a340feb56eb3",
   "outputs": [
    {
     "name": "stdout",
     "output_type": "stream",
     "text": [
      "转换完成！文件已保存至 bst_data_2005.csv\n"
     ]
    }
   ],
   "execution_count": 1
  },
  {
   "metadata": {},
   "cell_type": "code",
   "outputs": [],
   "execution_count": null,
   "source": "",
   "id": "507fd032d5cfc8d"
  }
 ],
 "metadata": {
  "kernelspec": {
   "display_name": "Python 3",
   "language": "python",
   "name": "python3"
  },
  "language_info": {
   "codemirror_mode": {
    "name": "ipython",
    "version": 2
   },
   "file_extension": ".py",
   "mimetype": "text/x-python",
   "name": "python",
   "nbconvert_exporter": "python",
   "pygments_lexer": "ipython2",
   "version": "2.7.6"
  }
 },
 "nbformat": 4,
 "nbformat_minor": 5
}
